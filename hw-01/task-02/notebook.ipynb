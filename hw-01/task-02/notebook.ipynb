{
 "cells": [
  {
   "cell_type": "markdown",
   "id": "failing-calculation",
   "metadata": {},
   "source": [
    "## Прикладные методы математической статистики\n",
    "### Домашнее задание 1. Вариант 4. Задача 2.\n",
    "   **Студент:** Абу Аль Лабан Н. А.  \n",
    "   **Группа:** БПИ 198\n",
    "   \n",
    "   ---\n",
    "## **Тестирование последовательностей псевдослучайных чисел.** \n",
    "### **Цель:** \n",
    "Рализовать датчик псевдослучайных чисел и проверить генерируемую последовательность на равномерность и независимость.  \n",
    "  \n",
    "   **а)** Рассчитать $100$ псевдослучайных чисел степенным остаточным методом No1, с $z_1 = 1237$.  \n",
    "   **б)** Привести первые $10$ чисел этой последовательности.  \n",
    "   **в)** Построить гистограмму с $10$ столбцами для полученной последовательности.  \n",
    "   **г)** Проверить гипотезу о том, что последовательность имеет распределение $R(0, 1)$ критерием хи-квадрат, разбив интервал $[0; 1)$ на десять равных интервалов.  \n",
    "   **д)** Повторить шаги (в) и (г) для последовательности длиной в $10000$ чисел.  \n",
    "   **е)** Проверить тестом перестановок первые $9999$ чисел последовательности, разбив их на тройки.  \n",
    "      \n",
    "   Использовать уровень значимости $5\\%$.  \n",
    "     \n",
    "---"
   ]
  },
  {
   "cell_type": "markdown",
   "id": "noble-acrobat",
   "metadata": {},
   "source": [
    "Подключим все необходимые для работы библиотеки "
   ]
  },
  {
   "cell_type": "code",
   "execution_count": 1,
   "id": "mounted-slovenia",
   "metadata": {},
   "outputs": [],
   "source": [
    "import numpy as np\n",
    "import sympy as sp\n",
    "import pandas as pd\n",
    "from sympy import nsolve\n",
    "import matplotlib.pyplot as plt\n",
    "import random"
   ]
  },
  {
   "cell_type": "markdown",
   "id": "conscious-addition",
   "metadata": {},
   "source": [
    "#### Метод для генерации псевдослучайных чисел\n",
    "    \n",
    "Чтобы рассчитать псевдослучайные числа степенным остаточным методом No1, необходимо:\n",
    "- Задать начальное число $z_1$\n",
    "- Найти следующие числа по формуле $z_i = (z_{i-1}^{2.5} \\text{ div } 100) \\mod 10000$ \n",
    "- Уложить числа в интервал от 0 до 1 следующим образом: $x_i = \\frac{z_i}{10000}$"
   ]
  },
  {
   "cell_type": "code",
   "execution_count": 2,
   "id": "average-antique",
   "metadata": {},
   "outputs": [],
   "source": [
    "def  generator(seed, count):\n",
    "    numbers = [seed] # список случайных чисел\n",
    "    # Генерирум числа и укладываем их в интервал от 0 до 1\n",
    "    for i in range(1, count):\n",
    "        numbers.append((numbers[i-1]**(2.5) // 100) % 10000)   \n",
    "    for i in range(count):\n",
    "        numbers[i] /= 10000 \n",
    "    return numbers"
   ]
  },
  {
   "cell_type": "markdown",
   "id": "legitimate-surgery",
   "metadata": {},
   "source": [
    "---\n",
    "#### a) Расчет псевдослучайных чисел\n",
    "  \n",
    "Рассчитаем массив 100 псевдослучайных чисел, воспользовавшись вышеописанным генератором"
   ]
  },
  {
   "cell_type": "code",
   "execution_count": 3,
   "id": "restricted-birmingham",
   "metadata": {},
   "outputs": [],
   "source": [
    "z = 1237 # начальное число\n",
    "\n",
    "numbers100 = generator(z, 100)"
   ]
  },
  {
   "cell_type": "code",
   "execution_count": 4,
   "id": "optimum-drilling",
   "metadata": {},
   "outputs": [
    {
     "name": "stdout",
     "output_type": "stream",
     "text": [
      "Начальное число: 1237\n",
      "Сгенерировано псевдослучайных чисел: 100\n"
     ]
    }
   ],
   "source": [
    "print('Начальное число: {}'.format(z))\n",
    "print('Сгенерировано псевдослучайных чисел: {}'.format(len(numbers100)))"
   ]
  },
  {
   "cell_type": "markdown",
   "id": "great-necessity",
   "metadata": {},
   "source": [
    "---\n",
    "**б) Вывод первых 10 чисел последовательности**  "
   ]
  },
  {
   "cell_type": "code",
   "execution_count": 5,
   "id": "comparative-folder",
   "metadata": {},
   "outputs": [
    {
     "name": "stdout",
     "output_type": "stream",
     "text": [
      "Первые числа последовательности: \n"
     ]
    },
    {
     "data": {
      "text/html": [
       "<div>\n",
       "<style scoped>\n",
       "    .dataframe tbody tr th:only-of-type {\n",
       "        vertical-align: middle;\n",
       "    }\n",
       "\n",
       "    .dataframe tbody tr th {\n",
       "        vertical-align: top;\n",
       "    }\n",
       "\n",
       "    .dataframe thead th {\n",
       "        text-align: right;\n",
       "    }\n",
       "</style>\n",
       "<table border=\"1\" class=\"dataframe\">\n",
       "  <thead>\n",
       "    <tr style=\"text-align: right;\">\n",
       "      <th></th>\n",
       "      <th></th>\n",
       "      <th></th>\n",
       "      <th></th>\n",
       "      <th></th>\n",
       "      <th></th>\n",
       "      <th></th>\n",
       "      <th></th>\n",
       "      <th></th>\n",
       "      <th></th>\n",
       "      <th></th>\n",
       "    </tr>\n",
       "  </thead>\n",
       "  <tbody>\n",
       "    <tr>\n",
       "      <th></th>\n",
       "      <td>z_1</td>\n",
       "      <td>z_2</td>\n",
       "      <td>z_3</td>\n",
       "      <td>z_4</td>\n",
       "      <td>z_5</td>\n",
       "      <td>z_6</td>\n",
       "      <td>z_7</td>\n",
       "      <td>z_8</td>\n",
       "      <td>z_9</td>\n",
       "      <td>z_10</td>\n",
       "    </tr>\n",
       "    <tr>\n",
       "      <th></th>\n",
       "      <td>0.1237</td>\n",
       "      <td>0.8175</td>\n",
       "      <td>0.5381</td>\n",
       "      <td>0.0145</td>\n",
       "      <td>0.2531</td>\n",
       "      <td>0.2777</td>\n",
       "      <td>0.3868</td>\n",
       "      <td>0.4995</td>\n",
       "      <td>0.3508</td>\n",
       "      <td>0.8681</td>\n",
       "    </tr>\n",
       "  </tbody>\n",
       "</table>\n",
       "</div>"
      ],
      "text/plain": [
       "                                                                          \\\n",
       "     z_1     z_2     z_3     z_4     z_5     z_6     z_7     z_8     z_9   \n",
       "  0.1237  0.8175  0.5381  0.0145  0.2531  0.2777  0.3868  0.4995  0.3508   \n",
       "\n",
       "          \n",
       "    z_10  \n",
       "  0.8681  "
      ]
     },
     "metadata": {},
     "output_type": "display_data"
    }
   ],
   "source": [
    "print('Первые числа последовательности: ')\n",
    "display(pd.DataFrame([['z_{}'.format(i+1) for i in range(10)], numbers100[:10]],\n",
    "                    columns=['' for i in range(10)],\n",
    "                    index=['' for i in range(2)]))"
   ]
  },
  {
   "cell_type": "markdown",
   "id": "sticky-apartment",
   "metadata": {},
   "source": [
    "---\n",
    "**в) Построение гистограммы с 10  столбцами для полученной последовательности**  "
   ]
  },
  {
   "cell_type": "code",
   "execution_count": 6,
   "id": "hungry-commons",
   "metadata": {},
   "outputs": [
    {
     "data": {
      "text/plain": [
       "<function matplotlib.pyplot.show(close=None, block=None)>"
      ]
     },
     "execution_count": 6,
     "metadata": {},
     "output_type": "execute_result"
    },
    {
     "data": {
      "image/png": "[encoded data removed]",
      "text/plain": [
       "<Figure size 432x288 with 1 Axes>"
      ]
     },
     "metadata": {
      "needs_background": "light"
     },
     "output_type": "display_data"
    }
   ],
   "source": [
    "ax = plt.gca()\n",
    "plt.title(\"100 псевдослучайных чисел\",\n",
    "          fontsize = 15,\n",
    "          color = 'black') \n",
    "plt.xlabel(r'Число',\n",
    "           color = 'black') \n",
    "plt.ylabel(r'Количество чисел на интервале',\n",
    "           color = 'black') \n",
    "\n",
    "plt.plot([0,1], [10,10], color='blue', lw=2) \n",
    "n, bin, patches = plt.hist(numbers100, \n",
    "                           bins = 10,\n",
    "                           color = 'deeppink', \n",
    "                           edgecolor = 'black', \n",
    "                           linewidth = 1) \n",
    "plt.show"
   ]
  },
  {
   "cell_type": "markdown",
   "id": "growing-nitrogen",
   "metadata": {},
   "source": [
    "---\n",
    "**г) Проврка гипотезы**  \n",
    "\n",
    "Необходимо проверить гипотезу о том, что последовательность имеет распределение $R(0, 1)$ критерием хи-квадрат, разбив интервал $[0; 1)$ на десять равных интервалов.  \n",
    "  \n",
    "Для начала определим основную и альтернативную гипотезы:  \n",
    "- $H_0:$ последовательность имеет распределение $R(0, 1)$  \n",
    "- $H_A:$ последовательность не распределена равномерно  \n",
    "  \n",
    "Зададим уровень значимости $\\alpha = 0.05$ (см. условие)\n",
    "  \n",
    "Для проверки гипотезы применим **Критерий согласия Пирсона $\\chi^2$**  \n",
    "\n",
    "Нужно:\n",
    "- Разбить диапазон изменения случайной величины на интервалы с шагом $0.1$  \n",
    "- Вычислить наблюдаемые и теоретические частоты  \n",
    "  \n",
    "При равномерном распределении и делении на равные интервалы, на эти интерваы выпало бы равное количество значений.  \n",
    "Значит, **теоретическая частота** равна $100 / 10 = 10$  \n",
    "\n",
    "Для вычисления **наблюдаемых частот** в соответствующих интервалах посчитаем, сколько чисел последовательности попадает в каждый интервал\n",
    "  \n",
    "Для удобства определим функцию"
   ]
  },
  {
   "cell_type": "code",
   "execution_count": 7,
   "id": "cloudy-intelligence",
   "metadata": {},
   "outputs": [],
   "source": [
    "def get_observed(numbers):\n",
    "    observed = [0 for i in range(10)]\n",
    "\n",
    "    # Вычисляем наблюдаемые частоты\n",
    "    for n in numbers:\n",
    "        observed[int(n*10)] += 1\n",
    "    return observed"
   ]
  },
  {
   "cell_type": "code",
   "execution_count": 8,
   "id": "radical-argument",
   "metadata": {},
   "outputs": [],
   "source": [
    "observed100 = get_observed(numbers100)"
   ]
  },
  {
   "cell_type": "code",
   "execution_count": 9,
   "id": "dressed-savings",
   "metadata": {},
   "outputs": [
    {
     "name": "stdout",
     "output_type": "stream",
     "text": [
      "Ожидаемые частоты на выборке из 100 элементов: \n"
     ]
    },
    {
     "data": {
      "text/html": [
       "<div>\n",
       "<style scoped>\n",
       "    .dataframe tbody tr th:only-of-type {\n",
       "        vertical-align: middle;\n",
       "    }\n",
       "\n",
       "    .dataframe tbody tr th {\n",
       "        vertical-align: top;\n",
       "    }\n",
       "\n",
       "    .dataframe thead th {\n",
       "        text-align: right;\n",
       "    }\n",
       "</style>\n",
       "<table border=\"1\" class=\"dataframe\">\n",
       "  <thead>\n",
       "    <tr style=\"text-align: right;\">\n",
       "      <th></th>\n",
       "      <th>.0 - .1</th>\n",
       "      <th>.1 - .2</th>\n",
       "      <th>.2 - .3</th>\n",
       "      <th>.3 - .4</th>\n",
       "      <th>.4 - .5</th>\n",
       "      <th>.5 - .6</th>\n",
       "      <th>.6 - .7</th>\n",
       "      <th>.7 - .8</th>\n",
       "      <th>.8 - .9</th>\n",
       "      <th>.9 - 1</th>\n",
       "    </tr>\n",
       "  </thead>\n",
       "  <tbody>\n",
       "    <tr>\n",
       "      <th>Частота</th>\n",
       "      <td>9</td>\n",
       "      <td>12</td>\n",
       "      <td>9</td>\n",
       "      <td>13</td>\n",
       "      <td>12</td>\n",
       "      <td>7</td>\n",
       "      <td>8</td>\n",
       "      <td>10</td>\n",
       "      <td>11</td>\n",
       "      <td>9</td>\n",
       "    </tr>\n",
       "  </tbody>\n",
       "</table>\n",
       "</div>"
      ],
      "text/plain": [
       "         .0 - .1  .1 - .2  .2 - .3  .3 - .4  .4 - .5  .5 - .6  .6 - .7  \\\n",
       "Частота        9       12        9       13       12        7        8   \n",
       "\n",
       "         .7 - .8  .8 - .9  .9 - 1  \n",
       "Частота       10       11       9  "
      ]
     },
     "metadata": {},
     "output_type": "display_data"
    }
   ],
   "source": [
    "# Выводим результат\n",
    "print('Наблюдаемые частоты на выборке из 100 элементов: ')\n",
    "intervals = ['.{} - .{}'.format(i, i + 1) for i in range(9)]\n",
    "intervals.append('.9 - 1')\n",
    "\n",
    "display(pd.DataFrame([observed100],\n",
    "                    columns=intervals,\n",
    "                    index=['Частота']))"
   ]
  },
  {
   "cell_type": "markdown",
   "id": "portable-quarterly",
   "metadata": {},
   "source": [
    "Вычислим эмпирическое значение Пирсона:\n",
    "  \n",
    "**Статистика:**  \n",
    "$\\chi^2 = \\sum\\limits^k_{i = 1} \\frac{(O_i - E_i)^2}{E_i}\\stackrel{H_0}\\sim \\chi^2_{k-1} $,  \n",
    "где \n",
    "- $O_i$ - наблюдаемая частота  \n",
    "- $E_i$ - теоритическая частота  \n",
    "- $k$ - количество интервалов  \n",
    "  \n",
    "**Критическое правило:**  \n",
    "отвергнуть $H-0$, если $\\chi^2 > \\chi^2_{k-1, \\alpha}$  \n",
    "$\\alpha = 0.05$  (см. условие)  \n",
    "  \n",
    "Для удобства определим функция для вычисления статистики:  "
   ]
  },
  {
   "cell_type": "code",
   "execution_count": 10,
   "id": "latest-showcase",
   "metadata": {},
   "outputs": [],
   "source": [
    "# e - Ожидаемая частота\n",
    "def get_stat(e, observed):\n",
    "    chi = 0\n",
    "    for o in observed:\n",
    "        chi += (o - e)**2/e\n",
    "    return chi"
   ]
  },
  {
   "cell_type": "markdown",
   "id": "macro-price",
   "metadata": {},
   "source": [
    "Вычислим статистику:"
   ]
  },
  {
   "cell_type": "code",
   "execution_count": 11,
   "id": "liked-friendly",
   "metadata": {},
   "outputs": [],
   "source": [
    "chi100 = get_stat(10, observed100) # статистика"
   ]
  },
  {
   "cell_type": "code",
   "execution_count": 12,
   "id": "weekly-husband",
   "metadata": {},
   "outputs": [
    {
     "name": "stdout",
     "output_type": "stream",
     "text": [
      "Статистика: 3.4\n"
     ]
    }
   ],
   "source": [
    "print('Статистика: {}'.format(chi100))"
   ]
  },
  {
   "cell_type": "markdown",
   "id": "broad-journalist",
   "metadata": {},
   "source": [
    "Степень свободы равна $k - 1 = 10 - 1 = 9$  \n",
    "По таблице критических значений находим\n",
    "$\\chi^2(0.05,9)=16.9$\n",
    "\n",
    "Проверим критическое правило:  \n",
    "$\\chi^2  < \\chi^2_{9,0.05}$ ?  \n",
    "$3.4 < 16.9$  \n",
    "  \n",
    "Следовательно, у нас нет оснований для опровержения основной гипотезы  \n",
    "Распределение последовательности **можно** считать равномерным\n",
    "\n",
    "---\n",
    "**д) Повторим для выборки размером 10000**  \n",
    "Для начала сгенерируем последовательность"
   ]
  },
  {
   "cell_type": "code",
   "execution_count": 13,
   "id": "jewish-tattoo",
   "metadata": {},
   "outputs": [],
   "source": [
    "numbers10000 = generator(z, 10000)"
   ]
  },
  {
   "cell_type": "code",
   "execution_count": 14,
   "id": "distant-ticket",
   "metadata": {},
   "outputs": [
    {
     "name": "stdout",
     "output_type": "stream",
     "text": [
      "Начальное число: 1237\n",
      "Сгенерировано псевдослучайных чисел: 10000\n"
     ]
    }
   ],
   "source": [
    "print('Начальное число: {}'.format(z))\n",
    "print('Сгенерировано псевдослучайных чисел: {}'.format(len(numbers10000)))"
   ]
  },
  {
   "cell_type": "markdown",
   "id": "signed-donor",
   "metadata": {},
   "source": [
    "Построим гистограмму для полученной последовательности"
   ]
  },
  {
   "cell_type": "code",
   "execution_count": 15,
   "id": "encouraging-horse",
   "metadata": {},
   "outputs": [
    {
     "data": {
      "text/plain": [
       "<function matplotlib.pyplot.show(close=None, block=None)>"
      ]
     },
     "execution_count": 15,
     "metadata": {},
     "output_type": "execute_result"
    },
    {
     "data": {
      "image/png": "[encoded data removed]",
      "text/plain": [
       "<Figure size 432x288 with 1 Axes>"
      ]
     },
     "metadata": {
      "needs_background": "light"
     },
     "output_type": "display_data"
    }
   ],
   "source": [
    "ax = plt.gca()\n",
    "plt.title(\"10000 псевдослучайных чисел\",\n",
    "          fontsize = 15,\n",
    "          color = 'black') \n",
    "plt.xlabel(r'Число',\n",
    "           color = 'black') \n",
    "plt.ylabel(r'Количество чисел на интервале',\n",
    "           color = 'black') \n",
    "plt.plot([0,1], [1000,1000], color='red', lw=2) \n",
    "n, bin, patches = plt.hist(numbers10000, \n",
    "                           bins = 10,\n",
    "                           color = 'deepskyblue', \n",
    "                           edgecolor = 'black', \n",
    "                           linewidth = 1) \n",
    "plt.show"
   ]
  },
  {
   "cell_type": "markdown",
   "id": "brave-anaheim",
   "metadata": {},
   "source": [
    "Аналогичну пункту (г) вычислим частоты  \n",
    "  \n",
    "**Теоретическая частота** равна $10 000 / 10 = 1000$  \n",
    "**Наблюдаемые частоты** вычислим:"
   ]
  },
  {
   "cell_type": "code",
   "execution_count": 16,
   "id": "democratic-hundred",
   "metadata": {},
   "outputs": [],
   "source": [
    "observed10000 = get_observed(numbers10000)"
   ]
  },
  {
   "cell_type": "code",
   "execution_count": 17,
   "id": "foster-publisher",
   "metadata": {},
   "outputs": [
    {
     "name": "stdout",
     "output_type": "stream",
     "text": [
      "Ожидаемые частоты на выборке из 10000 элементов: \n"
     ]
    },
    {
     "data": {
      "text/html": [
       "<div>\n",
       "<style scoped>\n",
       "    .dataframe tbody tr th:only-of-type {\n",
       "        vertical-align: middle;\n",
       "    }\n",
       "\n",
       "    .dataframe tbody tr th {\n",
       "        vertical-align: top;\n",
       "    }\n",
       "\n",
       "    .dataframe thead th {\n",
       "        text-align: right;\n",
       "    }\n",
       "</style>\n",
       "<table border=\"1\" class=\"dataframe\">\n",
       "  <thead>\n",
       "    <tr style=\"text-align: right;\">\n",
       "      <th></th>\n",
       "      <th>.0 - .1</th>\n",
       "      <th>.1 - .2</th>\n",
       "      <th>.2 - .3</th>\n",
       "      <th>.3 - .4</th>\n",
       "      <th>.4 - .5</th>\n",
       "      <th>.5 - .6</th>\n",
       "      <th>.6 - .7</th>\n",
       "      <th>.7 - .8</th>\n",
       "      <th>.8 - .9</th>\n",
       "      <th>.9 - 1</th>\n",
       "    </tr>\n",
       "  </thead>\n",
       "  <tbody>\n",
       "    <tr>\n",
       "      <th>Частота</th>\n",
       "      <td>1033</td>\n",
       "      <td>1121</td>\n",
       "      <td>778</td>\n",
       "      <td>1210</td>\n",
       "      <td>1034</td>\n",
       "      <td>861</td>\n",
       "      <td>860</td>\n",
       "      <td>1207</td>\n",
       "      <td>1120</td>\n",
       "      <td>776</td>\n",
       "    </tr>\n",
       "  </tbody>\n",
       "</table>\n",
       "</div>"
      ],
      "text/plain": [
       "         .0 - .1  .1 - .2  .2 - .3  .3 - .4  .4 - .5  .5 - .6  .6 - .7  \\\n",
       "Частота     1033     1121      778     1210     1034      861      860   \n",
       "\n",
       "         .7 - .8  .8 - .9  .9 - 1  \n",
       "Частота     1207     1120     776  "
      ]
     },
     "metadata": {},
     "output_type": "display_data"
    }
   ],
   "source": [
    "# Выводим результат\n",
    "print('Ожидаемые частоты на выборке из 10000 элементов: ')\n",
    "intervals = ['.{} - .{}'.format(i, i + 1) for i in range(9)]\n",
    "intervals.append('.9 - 1')\n",
    "\n",
    "display(pd.DataFrame([observed10000],\n",
    "                    columns=intervals,\n",
    "                    index=['Частота']))"
   ]
  },
  {
   "cell_type": "markdown",
   "id": "classical-mounting",
   "metadata": {},
   "source": [
    "Посчитаем статистику:"
   ]
  },
  {
   "cell_type": "code",
   "execution_count": 18,
   "id": "smoking-newman",
   "metadata": {},
   "outputs": [],
   "source": [
    "chi10000 = get_stat(1000, observed10000) # статистика"
   ]
  },
  {
   "cell_type": "code",
   "execution_count": 19,
   "id": "floating-reaction",
   "metadata": {},
   "outputs": [
    {
     "name": "stdout",
     "output_type": "stream",
     "text": [
      "Статистика: 256.616\n"
     ]
    }
   ],
   "source": [
    "print('Статистика: {}'.format(chi10000))"
   ]
  },
  {
   "cell_type": "markdown",
   "id": "operating-estonia",
   "metadata": {},
   "source": [
    "Ранее мы нашли:  \n",
    "$\\chi^2(0.05,9)=16.9$\n",
    "\n",
    "Проверим критическое правило:  \n",
    "$\\chi^2  < \\chi^2_{9,0.05}$  ?  \n",
    "$256.616 > 16.9$  \n",
    "  \n",
    "Следовательно, у нас есть значительные осноывания для опровержения основной гипотезы в пользу альтернативной  \n",
    "Распределение последовательности **нельзя** считать равномерным\n",
    "\n",
    "---\n",
    "**е) Проверить тестом перестановок первые  9999  чисел последовательности, разбив их на тройки**  \n",
    "Для начала разобьем числа на тройки и соберем в новый массив"
   ]
  },
  {
   "cell_type": "code",
   "execution_count": 20,
   "id": "outstanding-nashville",
   "metadata": {},
   "outputs": [],
   "source": [
    "triples = [[numbers10000[i], numbers10000[i + 1], numbers10000[i+ 2]]\n",
    "          for i in range(0,9997,3)]"
   ]
  },
  {
   "cell_type": "code",
   "execution_count": 21,
   "id": "alleged-yahoo",
   "metadata": {},
   "outputs": [
    {
     "name": "stdout",
     "output_type": "stream",
     "text": [
      "Собрано троек чисел: 3333\n"
     ]
    }
   ],
   "source": [
    "print('Собрано троек чисел: {}'.format(len(triples)))"
   ]
  },
  {
   "cell_type": "markdown",
   "id": "silver-choice",
   "metadata": {},
   "source": [
    "Элементам каждой тройки поставим в соответствие ранг: \n",
    "- 1 — наименьшему элементу\n",
    "- 2 — среднему\n",
    "- 3 — наибольшему  \n",
    "  \n",
    "Напишем метод, который превращает тройку в строку идущих подряд рангов"
   ]
  },
  {
   "cell_type": "code",
   "execution_count": 22,
   "id": "heavy-appendix",
   "metadata": {},
   "outputs": [],
   "source": [
    "def get_rangs(triple):\n",
    "    rangs = ''\n",
    "    minimum = min(triple)\n",
    "    maximum = max(triple)\n",
    "    for n in triple:\n",
    "        if n == minimum:\n",
    "            rangs += '1'\n",
    "        elif n == maximum:\n",
    "            rangs += '3'\n",
    "        else:\n",
    "            rangs += '2'\n",
    "    return rangs"
   ]
  },
  {
   "cell_type": "markdown",
   "id": "lined-equilibrium",
   "metadata": {},
   "source": [
    "Переведем тройки в строки рангов и посчитаем частоты рангов"
   ]
  },
  {
   "cell_type": "code",
   "execution_count": 23,
   "id": "limiting-aluminum",
   "metadata": {},
   "outputs": [],
   "source": [
    "triples_rangs = [get_rangs(t) for t in triples]\n",
    "observed_rangs = {'123': 0, '132': 0, '213': 0, '231': 0, '312': 0, '321': 0}\n",
    "\n",
    "for r in triples_rangs:\n",
    "    observed_rangs[r] += 1"
   ]
  },
  {
   "cell_type": "code",
   "execution_count": 24,
   "id": "extraordinary-istanbul",
   "metadata": {},
   "outputs": [
    {
     "name": "stdout",
     "output_type": "stream",
     "text": [
      "Частоты на выборке из рангов троек: \n"
     ]
    },
    {
     "data": {
      "text/html": [
       "<div>\n",
       "<style scoped>\n",
       "    .dataframe tbody tr th:only-of-type {\n",
       "        vertical-align: middle;\n",
       "    }\n",
       "\n",
       "    .dataframe tbody tr th {\n",
       "        vertical-align: top;\n",
       "    }\n",
       "\n",
       "    .dataframe thead th {\n",
       "        text-align: right;\n",
       "    }\n",
       "</style>\n",
       "<table border=\"1\" class=\"dataframe\">\n",
       "  <thead>\n",
       "    <tr style=\"text-align: right;\">\n",
       "      <th></th>\n",
       "      <th>123</th>\n",
       "      <th>132</th>\n",
       "      <th>213</th>\n",
       "      <th>231</th>\n",
       "      <th>312</th>\n",
       "      <th>321</th>\n",
       "    </tr>\n",
       "  </thead>\n",
       "  <tbody>\n",
       "    <tr>\n",
       "      <th>Частота</th>\n",
       "      <td>602</td>\n",
       "      <td>627</td>\n",
       "      <td>491</td>\n",
       "      <td>374</td>\n",
       "      <td>518</td>\n",
       "      <td>721</td>\n",
       "    </tr>\n",
       "  </tbody>\n",
       "</table>\n",
       "</div>"
      ],
      "text/plain": [
       "         123  132  213  231  312  321\n",
       "Частота  602  627  491  374  518  721"
      ]
     },
     "metadata": {},
     "output_type": "display_data"
    }
   ],
   "source": [
    "# Выводим результат\n",
    "print('Частоты на выборке из рангов троек: ')\n",
    "display(pd.DataFrame([observed_rangs.values()],\n",
    "                    columns=observed_rangs.keys(),\n",
    "                    index=['Частота']))"
   ]
  },
  {
   "cell_type": "markdown",
   "id": "instructional-dynamics",
   "metadata": {},
   "source": [
    "**Теоретическую частоту** вычисляем как раньше:  \n",
    "$3333/6 = 555.5$  \n",
    "  \n",
    "**Уровень значимости**, как и прежде, $\\alpha = 0.05$  \n",
    "**Степень свободы** $6-1=5$  \n",
    "  \n",
    "Вычисляем по таблице $\\chi^2(0.05,5)=11.1$\n",
    "\n",
    "Вычислим **статистику** с помощью ранее определенной фунукции:"
   ]
  },
  {
   "cell_type": "code",
   "execution_count": 25,
   "id": "competent-assets",
   "metadata": {},
   "outputs": [],
   "source": [
    "chi_rangs = get_stat(555.5, observed_rangs.values())"
   ]
  },
  {
   "cell_type": "code",
   "execution_count": 26,
   "id": "registered-float",
   "metadata": {},
   "outputs": [
    {
     "name": "stdout",
     "output_type": "stream",
     "text": [
      "Статистика: 131.72547254725472\n"
     ]
    }
   ],
   "source": [
    "print('Статистика: {}'.format(chi_rangs))"
   ]
  },
  {
   "cell_type": "markdown",
   "id": "automotive-elements",
   "metadata": {},
   "source": [
    "Проверим критическое правило:  \n",
    "$\\chi^2  < \\chi^2_{5,0.05}$  ?  \n",
    "$131.725 > 11.1$  \n",
    "  \n",
    "Следовательно, у нас есть значительные осноывания для опровержения основной гипотезы в пользу альтернативной  \n",
    "Распределение последовательности **нельзя** считать равномерным, а числа независимыми\n",
    "\n",
    "---\n",
    "**P.S.** В целях повышения читабельности удалены фрагменты кода, предназначенные для вывода данных"
   ]
  }
 ],
 "metadata": {
  "kernelspec": {
   "display_name": "Python 3",
   "language": "python",
   "name": "python3"
  },
  "language_info": {
   "codemirror_mode": {
    "name": "ipython",
    "version": 3
   },
   "file_extension": ".py",
   "mimetype": "text/x-python",
   "name": "python",
   "nbconvert_exporter": "python",
   "pygments_lexer": "ipython3",
   "version": "3.8.3"
  }
 },
 "nbformat": 4,
 "nbformat_minor": 5
}
