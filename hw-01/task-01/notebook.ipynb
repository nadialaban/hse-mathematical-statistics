{
 "cells": [
  {
   "cell_type": "markdown",
   "id": "connected-merchant",
   "metadata": {},
   "source": [
    "## Прикладные методы математической статистики\n",
    "### Домашнее задание 1. Вариант 4.\n",
    "   **Студент:** Абу Аль Лабан Н. А.  \n",
    "   **Группа:** БПИ 198\n",
    "   \n",
    "   ---\n",
    "   ### **Цель:** \n",
    "Оценить среднюю продолжительность вскармливания.  \n",
    "  \n",
    "   **а)** Рассчитать 90% доверительный интервал для средней продолжительности, считая распределение признака нормальным.  \n",
    "   **б)** Построить график «квантиль-квантиль» и попробуйте понять, соответствует ли распределение времени вскармливания нормальному закону.  \n",
    "   **в)** Рассчитать данным методом 90% доверительный интервал для средней продолжительности вскармливания, сгенерировав 1000 перевыборок.  \n",
    "   **г)** Построить гистограмму для полученных в предыдщем пункте средних значений. Похоже ли распределение среднего в перевыборках на нормальное?\n",
    "    \n",
    "   ---\n",
    " "
   ]
  },
  {
   "cell_type": "markdown",
   "id": "independent-clothing",
   "metadata": {},
   "source": [
    "Подключим все необходимые для работы библиотеки "
   ]
  },
  {
   "cell_type": "code",
   "execution_count": 1,
   "id": "middle-locator",
   "metadata": {},
   "outputs": [],
   "source": [
    "import numpy as np\n",
    "import sympy as sp\n",
    "import pandas as pd\n",
    "import statsmodels.api as sm\n",
    "import scipy\n",
    "import matplotlib.pyplot as plt\n",
    "import random"
   ]
  },
  {
   "cell_type": "markdown",
   "id": "exposed-technician",
   "metadata": {},
   "source": [
    "Выборка данных о продолжительости грудного вскрармливания в неделях состоит из 22 элементов"
   ]
  },
  {
   "cell_type": "code",
   "execution_count": 2,
   "id": "dirty-original",
   "metadata": {},
   "outputs": [
    {
     "name": "stdout",
     "output_type": "stream",
     "text": [
      "Выборка: \n"
     ]
    },
    {
     "data": {
      "text/html": [
       "<div>\n",
       "<style scoped>\n",
       "    .dataframe tbody tr th:only-of-type {\n",
       "        vertical-align: middle;\n",
       "    }\n",
       "\n",
       "    .dataframe tbody tr th {\n",
       "        vertical-align: top;\n",
       "    }\n",
       "\n",
       "    .dataframe thead th {\n",
       "        text-align: right;\n",
       "    }\n",
       "</style>\n",
       "<table border=\"1\" class=\"dataframe\">\n",
       "  <thead>\n",
       "    <tr style=\"text-align: right;\">\n",
       "      <th></th>\n",
       "      <th></th>\n",
       "      <th></th>\n",
       "      <th></th>\n",
       "      <th></th>\n",
       "      <th></th>\n",
       "      <th></th>\n",
       "      <th></th>\n",
       "      <th></th>\n",
       "      <th></th>\n",
       "      <th></th>\n",
       "      <th></th>\n",
       "    </tr>\n",
       "  </thead>\n",
       "  <tbody>\n",
       "    <tr>\n",
       "      <th></th>\n",
       "      <td>X_1</td>\n",
       "      <td>X_2</td>\n",
       "      <td>X_3</td>\n",
       "      <td>X_4</td>\n",
       "      <td>X_5</td>\n",
       "      <td>X_6</td>\n",
       "      <td>X_7</td>\n",
       "      <td>X_8</td>\n",
       "      <td>X_9</td>\n",
       "      <td>X_10</td>\n",
       "      <td>X_11</td>\n",
       "    </tr>\n",
       "    <tr>\n",
       "      <th></th>\n",
       "      <td>20</td>\n",
       "      <td>6</td>\n",
       "      <td>13</td>\n",
       "      <td>35</td>\n",
       "      <td>19</td>\n",
       "      <td>14</td>\n",
       "      <td>24</td>\n",
       "      <td>23</td>\n",
       "      <td>43</td>\n",
       "      <td>27</td>\n",
       "      <td>4</td>\n",
       "    </tr>\n",
       "    <tr>\n",
       "      <th></th>\n",
       "      <td>X_12</td>\n",
       "      <td>X_13</td>\n",
       "      <td>X_14</td>\n",
       "      <td>X_15</td>\n",
       "      <td>X_16</td>\n",
       "      <td>X_17</td>\n",
       "      <td>X_18</td>\n",
       "      <td>X_19</td>\n",
       "      <td>X_20</td>\n",
       "      <td>X_21</td>\n",
       "      <td>X_22</td>\n",
       "    </tr>\n",
       "    <tr>\n",
       "      <th></th>\n",
       "      <td>28</td>\n",
       "      <td>16</td>\n",
       "      <td>9</td>\n",
       "      <td>24</td>\n",
       "      <td>16</td>\n",
       "      <td>4</td>\n",
       "      <td>21</td>\n",
       "      <td>18</td>\n",
       "      <td>27</td>\n",
       "      <td>21</td>\n",
       "      <td>6</td>\n",
       "    </tr>\n",
       "  </tbody>\n",
       "</table>\n",
       "</div>"
      ],
      "text/plain": [
       "                                                                  \n",
       "   X_1   X_2   X_3   X_4   X_5   X_6   X_7   X_8   X_9  X_10  X_11\n",
       "    20     6    13    35    19    14    24    23    43    27     4\n",
       "  X_12  X_13  X_14  X_15  X_16  X_17  X_18  X_19  X_20  X_21  X_22\n",
       "    28    16     9    24    16     4    21    18    27    21     6"
      ]
     },
     "metadata": {},
     "output_type": "display_data"
    }
   ],
   "source": [
    "duration = [20, 6, 13, 35, 19, 14, 24, 23, 43, 27, 4,\n",
    "            28, 16, 9, 24, 16, 4, 21, 18, 27, 21, 6]\n",
    "n = len(duration)\n",
    "print('Выборка: ')\n",
    "display(pd.DataFrame([['X_{}'.format(i+1) for i in range(11)], duration[:11],\n",
    "                      ['X_{}'.format(i+12) for i in range(11)], duration[11:]],\n",
    "                    columns=['' for i in range(11)],\n",
    "                    index=['' for i in range(4)]))\n"
   ]
  },
  {
   "cell_type": "markdown",
   "id": "assigned-exposure",
   "metadata": {},
   "source": [
    "---\n",
    "#### a) Построение доверительного интервала\n",
    "    \n",
    "Чтобы построить доверительный интервал, необходимо:\n",
    "- Задать уровень значимости $\\alpha$ \n",
    "- Найти квантиль распределения Стьюдента $t_{(\\frac{\\alpha}{2}; n-1)}$ \n",
    "- Найти среднее выборочное значение $\\overline X$\n",
    "- Найти стандартное отклонение $\\hat\\sigma$\n",
    "- Найти границы интервала, подставив в формулу полученные значения \n",
    "\n",
    "##### Приступим к вычислениям.  \n",
    "1. **Уровень доверия**, заданный по условию: $\\alpha - 1 = 0.9$  \n",
    "Отсюда находим **уровень значимости:** $\\alpha = 0.1$  \n",
    "2. Найдем **квантиль распределения Стьюдента** по соответствующей таблице: $t_{(0.05; 21)} = 1.721$  \n",
    "3. Рассчитаем **среднее выборочное значение** по формуле: $\\overline X = \\frac{\\sum^n_{i = 1}X_i}{n}$\n",
    "4. Стандартное отклонение найдем с помощью скорректированной выборочной дисперсии: $\\hat\\sigma = \\sqrt{\\hat\\sigma^2}$  \n",
    "Для этого вычислим **скорректированную выборочную дисперсию**  по формуле: $\\hat \\sigma^2 = \\frac{\\sum^n_{i = 1}(X_i - \\overline X)^2}{n - 1}$  \n",
    "5. Имея результаты вычислений, **интервал** найдем из формулы:  \n",
    " $\\overline X - \\big(t_{(\\frac{\\alpha}{2}; n-1)} \\cdot \\frac {\\hat \\sigma } {\\sqrt n}\\big) \\leqslant \\mu \\leqslant \\overline X + \\big(t_{(\\frac{\\alpha}{2}; n-1)} \\cdot \\frac {\\hat \\sigma } {\\sqrt n}\\big)$ "
   ]
  },
  {
   "cell_type": "code",
   "execution_count": 3,
   "id": "advisory-viking",
   "metadata": {},
   "outputs": [],
   "source": [
    "x = sum(duration) / n # Среднее выборочное\n",
    "s = sum([(d - x)**2 \n",
    "         for d in duration]) / (n - 1) # Выборочная дисперсия\n",
    "t = 1.721 # Квантиль \n",
    "\n",
    "left = x - t * np.sqrt(s) / np.sqrt(n)  # Левая граница\n",
    "right = x + t * np.sqrt(s) / np.sqrt(n) # Правая граница"
   ]
  },
  {
   "cell_type": "code",
   "execution_count": 4,
   "id": "adult-showcase",
   "metadata": {},
   "outputs": [
    {
     "name": "stdout",
     "output_type": "stream",
     "text": [
      "Среднее выборочное: 19.00\n",
      "Несмещенная выборочная дисперсия: 99.24\n",
      "Левая граница: 15.344820242959717\n",
      "Правая граница: 22.655179757040283\n"
     ]
    }
   ],
   "source": [
    "print('Среднее выборочное: {:.2f}'.format(x))\n",
    "print('Несмещенная выборочная дисперсия: {:.2f}'.format(s))\n",
    "print('Левая граница: {}'.format(left))\n",
    "print('Правая граница: {}'.format(right))"
   ]
  },
  {
   "cell_type": "markdown",
   "id": "thirty-promise",
   "metadata": {},
   "source": [
    "Таким образом, **интервал**: $\\big(15.34; 22.66\\big)$\n",
    "\n",
    "---\n",
    "**б) Построение графика квантиль-квантиль**  \n",
    "  \n",
    "Рассчитаем **выборочные квантили** порядков $\\frac{1}{n+1},..,\\frac{n}{n+1}$  \n",
    "Это упорядоченная по возрастанию выборка: $\\hat Q \\big(\\frac{1}{n+1}\\big) = X_{(1)},.., \\hat Q \\big(\\frac{n}{n+1}\\big) = X_{(n)}$  \n",
    "  \n",
    "Рассчитаем **теоретические квантили** - квантили нормального распределения с параметрами $\\mu = \\overline X$ и $\\sigma^2 = \\hat \\sigma ^2$  \n",
    "$Q \\big(\\frac{1}{n+1}\\big) = \\overline X + \\hat \\sigma \\Phi^{-1}\\big(\\frac{1}{n+1}\\big) ,.., Q \\big(\\frac{n}{n+1}\\big) = \\overline X + \\hat \\sigma \\Phi^{-1}\\big(\\frac{n}{n+1}\\big)$  \n",
    "  \n",
    "Построим график на осях $(Q, \\hat Q)$"
   ]
  },
  {
   "cell_type": "code",
   "execution_count": 5,
   "id": "superb-breakfast",
   "metadata": {},
   "outputs": [],
   "source": [
    "duration.sort()\n",
    "Q = duration # Выборочные квантили\n",
    "phi = [scipy.stats.norm.ppf((i+1)/(n+1)) for i in range(n)] # Квантили нормального распределения Ф^-1\n",
    "tQ = [x + np.sqrt(s) * p for p in phi] # Теоретические квантили"
   ]
  },
  {
   "cell_type": "code",
   "execution_count": 6,
   "id": "presidential-excellence",
   "metadata": {},
   "outputs": [
    {
     "name": "stdout",
     "output_type": "stream",
     "text": [
      "Выборочные квантили: \n"
     ]
    },
    {
     "data": {
      "text/html": [
       "<div>\n",
       "<style scoped>\n",
       "    .dataframe tbody tr th:only-of-type {\n",
       "        vertical-align: middle;\n",
       "    }\n",
       "\n",
       "    .dataframe tbody tr th {\n",
       "        vertical-align: top;\n",
       "    }\n",
       "\n",
       "    .dataframe thead th {\n",
       "        text-align: right;\n",
       "    }\n",
       "</style>\n",
       "<table border=\"1\" class=\"dataframe\">\n",
       "  <thead>\n",
       "    <tr style=\"text-align: right;\">\n",
       "      <th></th>\n",
       "      <th></th>\n",
       "      <th></th>\n",
       "      <th></th>\n",
       "      <th></th>\n",
       "      <th></th>\n",
       "      <th></th>\n",
       "      <th></th>\n",
       "      <th></th>\n",
       "      <th></th>\n",
       "      <th></th>\n",
       "      <th></th>\n",
       "    </tr>\n",
       "  </thead>\n",
       "  <tbody>\n",
       "    <tr>\n",
       "      <th></th>\n",
       "      <td>X(1)</td>\n",
       "      <td>X(2)</td>\n",
       "      <td>X(3)</td>\n",
       "      <td>X(4)</td>\n",
       "      <td>X(5)</td>\n",
       "      <td>X(6)</td>\n",
       "      <td>X(7)</td>\n",
       "      <td>X(8)</td>\n",
       "      <td>X(9)</td>\n",
       "      <td>X(10)</td>\n",
       "      <td>X(11)</td>\n",
       "    </tr>\n",
       "    <tr>\n",
       "      <th></th>\n",
       "      <td>4</td>\n",
       "      <td>4</td>\n",
       "      <td>6</td>\n",
       "      <td>6</td>\n",
       "      <td>9</td>\n",
       "      <td>13</td>\n",
       "      <td>14</td>\n",
       "      <td>16</td>\n",
       "      <td>16</td>\n",
       "      <td>18</td>\n",
       "      <td>19</td>\n",
       "    </tr>\n",
       "    <tr>\n",
       "      <th></th>\n",
       "      <td>X(12)</td>\n",
       "      <td>X(13)</td>\n",
       "      <td>X(14)</td>\n",
       "      <td>X(15)</td>\n",
       "      <td>X(16)</td>\n",
       "      <td>X(17)</td>\n",
       "      <td>X(18)</td>\n",
       "      <td>X(19)</td>\n",
       "      <td>X(20)</td>\n",
       "      <td>X(21)</td>\n",
       "      <td>X(22)</td>\n",
       "    </tr>\n",
       "    <tr>\n",
       "      <th></th>\n",
       "      <td>20</td>\n",
       "      <td>21</td>\n",
       "      <td>21</td>\n",
       "      <td>23</td>\n",
       "      <td>24</td>\n",
       "      <td>24</td>\n",
       "      <td>27</td>\n",
       "      <td>27</td>\n",
       "      <td>28</td>\n",
       "      <td>35</td>\n",
       "      <td>43</td>\n",
       "    </tr>\n",
       "  </tbody>\n",
       "</table>\n",
       "</div>"
      ],
      "text/plain": [
       "                                                                             \n",
       "   X(1)   X(2)   X(3)   X(4)   X(5)   X(6)   X(7)   X(8)   X(9)  X(10)  X(11)\n",
       "      4      4      6      6      9     13     14     16     16     18     19\n",
       "  X(12)  X(13)  X(14)  X(15)  X(16)  X(17)  X(18)  X(19)  X(20)  X(21)  X(22)\n",
       "     20     21     21     23     24     24     27     27     28     35     43"
      ]
     },
     "metadata": {},
     "output_type": "display_data"
    },
    {
     "name": "stdout",
     "output_type": "stream",
     "text": [
      "\n",
      "Теоретичесикие квантили: \n"
     ]
    },
    {
     "data": {
      "text/html": [
       "<div>\n",
       "<style scoped>\n",
       "    .dataframe tbody tr th:only-of-type {\n",
       "        vertical-align: middle;\n",
       "    }\n",
       "\n",
       "    .dataframe tbody tr th {\n",
       "        vertical-align: top;\n",
       "    }\n",
       "\n",
       "    .dataframe thead th {\n",
       "        text-align: right;\n",
       "    }\n",
       "</style>\n",
       "<table border=\"1\" class=\"dataframe\">\n",
       "  <thead>\n",
       "    <tr style=\"text-align: right;\">\n",
       "      <th></th>\n",
       "      <th></th>\n",
       "      <th></th>\n",
       "      <th></th>\n",
       "      <th></th>\n",
       "      <th></th>\n",
       "      <th></th>\n",
       "      <th></th>\n",
       "      <th></th>\n",
       "      <th></th>\n",
       "      <th></th>\n",
       "      <th></th>\n",
       "    </tr>\n",
       "  </thead>\n",
       "  <tbody>\n",
       "    <tr>\n",
       "      <th></th>\n",
       "      <td>Q(1/23)</td>\n",
       "      <td>Q(2/23)</td>\n",
       "      <td>Q(3/23)</td>\n",
       "      <td>Q(4/23)</td>\n",
       "      <td>Q(5/23)</td>\n",
       "      <td>Q(6/23)</td>\n",
       "      <td>Q(7/23)</td>\n",
       "      <td>Q(8/23)</td>\n",
       "      <td>Q(9/23)</td>\n",
       "      <td>Q(10/23)</td>\n",
       "      <td>Q(11/23)</td>\n",
       "    </tr>\n",
       "    <tr>\n",
       "      <th></th>\n",
       "      <td>1.948578</td>\n",
       "      <td>5.454525</td>\n",
       "      <td>7.799532</td>\n",
       "      <td>9.647690</td>\n",
       "      <td>11.219472</td>\n",
       "      <td>12.617784</td>\n",
       "      <td>13.900177</td>\n",
       "      <td>15.102969</td>\n",
       "      <td>16.251321</td>\n",
       "      <td>17.364160</td>\n",
       "      <td>18.456892</td>\n",
       "    </tr>\n",
       "    <tr>\n",
       "      <th></th>\n",
       "      <td>Q(12/23)</td>\n",
       "      <td>Q(13/23)</td>\n",
       "      <td>Q(14/23)</td>\n",
       "      <td>Q(15/23)</td>\n",
       "      <td>Q(16/23)</td>\n",
       "      <td>Q(17/23)</td>\n",
       "      <td>Q(18/23)</td>\n",
       "      <td>Q(19/23)</td>\n",
       "      <td>Q(20/23)</td>\n",
       "      <td>Q(21/23)</td>\n",
       "      <td>Q(22/23)</td>\n",
       "    </tr>\n",
       "    <tr>\n",
       "      <th></th>\n",
       "      <td>19.543108</td>\n",
       "      <td>20.635840</td>\n",
       "      <td>21.748679</td>\n",
       "      <td>22.897031</td>\n",
       "      <td>24.099823</td>\n",
       "      <td>25.382216</td>\n",
       "      <td>26.780528</td>\n",
       "      <td>28.352310</td>\n",
       "      <td>30.200468</td>\n",
       "      <td>32.545475</td>\n",
       "      <td>36.051422</td>\n",
       "    </tr>\n",
       "  </tbody>\n",
       "</table>\n",
       "</div>"
      ],
      "text/plain": [
       "                                                                               \\\n",
       "    Q(1/23)    Q(2/23)    Q(3/23)    Q(4/23)    Q(5/23)    Q(6/23)    Q(7/23)   \n",
       "   1.948578   5.454525   7.799532   9.647690  11.219472  12.617784  13.900177   \n",
       "   Q(12/23)   Q(13/23)   Q(14/23)   Q(15/23)   Q(16/23)   Q(17/23)   Q(18/23)   \n",
       "  19.543108  20.635840  21.748679  22.897031  24.099823  25.382216  26.780528   \n",
       "\n",
       "                                              \n",
       "    Q(8/23)    Q(9/23)   Q(10/23)   Q(11/23)  \n",
       "  15.102969  16.251321  17.364160  18.456892  \n",
       "   Q(19/23)   Q(20/23)   Q(21/23)   Q(22/23)  \n",
       "  28.352310  30.200468  32.545475  36.051422  "
      ]
     },
     "metadata": {},
     "output_type": "display_data"
    }
   ],
   "source": [
    "print('Выборочные квантили: ')\n",
    "display(pd.DataFrame([['X({})'.format(i+1) for i in range(11)], Q[:11],\n",
    "                      ['X({})'.format(i+12) for i in range(11)], Q[11:]],\n",
    "                    columns=['' for i in range(11)],\n",
    "                    index=['' for i in range(4)]))\n",
    "print()\n",
    "print('Теоретичесикие квантили: ')\n",
    "display(pd.DataFrame([['Q({}/23)'.format(i+1) for i in range(11)], tQ[:11],\n",
    "                      ['Q({}/23)'.format(i+12) for i in range(11)], tQ[11:]],\n",
    "                     columns=['' for i in range(11)],\n",
    "                     index=['' for i in range(4)]))"
   ]
  },
  {
   "cell_type": "code",
   "execution_count": 7,
   "id": "green-universe",
   "metadata": {},
   "outputs": [
    {
     "data": {
      "text/plain": [
       "[<matplotlib.lines.Line2D at 0x7fe605930af0>]"
      ]
     },
     "execution_count": 7,
     "metadata": {},
     "output_type": "execute_result"
    },
    {
     "data": {
      "image/png": "[encoded data removed]",
      "text/plain": [
       "<Figure size 432x288 with 1 Axes>"
      ]
     },
     "metadata": {
      "needs_background": "light"
     },
     "output_type": "display_data"
    }
   ],
   "source": [
    "plt.plot()\n",
    "plt.title('График квантиль-квантиль', fontsize=17, color='black') \n",
    "plt.xlabel('Теоретические квантили - Q ',fontsize=14, color='black') \n",
    "plt.ylabel(r'Выборочные квантили - $\\hat{Q}$',fontsize=14,color='black')\n",
    "x = sp.Symbol('x')\n",
    "plt.plot(tQ, Q,'.',linewidth = 5,color='purple')"
   ]
  },
  {
   "cell_type": "markdown",
   "id": "frank-break",
   "metadata": {},
   "source": [
    "Поскольку точки практически выстроены в линию, можно сделать вывод, что длительность вскармливания **распределена по нормальному закону**\n",
    "\n",
    "---\n",
    "#### **в) Построение доверительного интервала с помощью бутстрапа и генерации 1000 перевыборок**\n",
    "  \n",
    "  \n",
    "Для начала неодбходимо построить 1000 **перевыборок** -  n случайно выбранных из основной выборки элементов (элеметы могут повторяться)\n",
    "\n",
    "Для кажлой перевыборки необходимо найти среднее выборочное значение $\\overline X_i$, это будут перевыборочные \n",
    "\n",
    "Далее нужно:\n",
    "- Задать уровень значимости $\\alpha$ \n",
    "- Отсортировать массив средних значений\n",
    "- Найти границы интервала, взяв нужные квантили из средних значений\n",
    "\n",
    "\n",
    "##### Приступим к рассчетам\n",
    "1. Рассчитаем для каждой перевыборки **переыборочное среднее** по формуле: $\\overline X_i = \\frac{\\sum^n_{i = 1}x_i}{n}$  \n",
    "2. **Уровень доверия** по условию: $\\alpha - 1 = 0.9$  \n",
    "Отсюда находим **уровень значимости:** $\\alpha = 0.1$  \n",
    "3. Отсортируем по возрастанию найденные в п. 1 средние выборочные   \n",
    "4. В общем случае, выборочные квантили $Q\\big(\\frac\\alpha2\\big)$ и  $Q\\big(10 - \\frac\\alpha2\\big)$ для средних в перевыборках образуют бутстраповский доверительный интервал для среднего в генеральной совокупности с уровнем доверия 1−α \n",
    "5. Наконец, найдем **интервал**, взяв $0.05*1000$ и $0.95*1000$ элменты, это и будут нужные квантили"
   ]
  },
  {
   "cell_type": "code",
   "execution_count": 8,
   "id": "chronic-keeping",
   "metadata": {},
   "outputs": [],
   "source": [
    "duration = [20, 6, 13, 35, 19, 14, 24, 23, 43, 27, 4,\n",
    "            28, 16, 9, 24, 16, 4, 21, 18, 27, 21, 6] # Сбрасываем отсортированность\n",
    "\n",
    "bootstrap_lst = [[random.choice(duration) for i in range(n)] \n",
    "                 for j in range(1000)] # Генерируем перевыборки\n",
    "\n",
    "# Средние перевыборочные для каждлй перевыборки\n",
    "mean_lst = [sum(bootstrap) / n \n",
    "            for bootstrap in bootstrap_lst]\n",
    "mean_lst.sort()\n",
    "\n",
    "left = mean_lst[49] # Левая граница\n",
    "right = mean_lst[949] # Правая граница"
   ]
  },
  {
   "cell_type": "code",
   "execution_count": 9,
   "id": "numerous-privilege",
   "metadata": {},
   "outputs": [
    {
     "name": "stdout",
     "output_type": "stream",
     "text": [
      "Левая граница: 15.772727272727273\n",
      "Правая граница: 22.40909090909091\n"
     ]
    }
   ],
   "source": [
    "print('Левая граница: {}'.format(left))\n",
    "print('Правая граница: {}'.format(right))"
   ]
  },
  {
   "cell_type": "markdown",
   "id": "generous-scenario",
   "metadata": {},
   "source": [
    "Таким образом, **интервал**: $\\big(15.77; 22.41\\big)$  \n",
    "Интервал, найденный по исходной выборке: $\\big(15.34; 22.66\\big)$  \n",
    "  \n",
    "Поскольку интервалы находятся в одном отрезке, но найденный с помощью бутстрапа меньше, делаем вывод, что найденный в ходе эксперимента интревал **более точен**  \n",
    "  \n",
    "---\n",
    "#### **г) Построение гистограммы**  \n",
    "Гистограмма будет построена на основе средних значений перевыборок из предыдущего пункта"
   ]
  },
  {
   "cell_type": "code",
   "execution_count": 10,
   "id": "caring-pierre",
   "metadata": {
    "scrolled": true
   },
   "outputs": [
    {
     "data": {
      "text/plain": [
       "<function matplotlib.pyplot.show(close=None, block=None)>"
      ]
     },
     "execution_count": 10,
     "metadata": {},
     "output_type": "execute_result"
    },
    {
     "data": {
      "image/png": "[encoded data removed]",
      "text/plain": [
       "<Figure size 432x288 with 1 Axes>"
      ]
     },
     "metadata": {
      "needs_background": "light"
     },
     "output_type": "display_data"
    }
   ],
   "source": [
    "ax = plt.gca()\n",
    "plt.title(\"Среднее в перевыборках\",\n",
    "          fontsize = 15,\n",
    "          color = 'black') \n",
    "plt.xlabel(r'Среднее перевыборки $\\bar{X}$',\n",
    "           color = 'black') \n",
    "plt.ylabel('Число перевыборок', \n",
    "           color = 'black')\n",
    "n, bin, patches = plt.hist(mean_lst, \n",
    "                           bins = 30,\n",
    "                           color = 'purple', \n",
    "                           edgecolor = 'black', \n",
    "                           linewidth = 1) \n",
    "plt.show"
   ]
  },
  {
   "cell_type": "markdown",
   "id": "adult-oakland",
   "metadata": {},
   "source": [
    "Поскольку гистограмма напоминает колокол, делаем вывод, что распределение средних значений **похоже на нормальное**\n",
    "\n",
    "---\n",
    "**P.S.** В целях повышения читабельности удалены фрагменты кода, предназначенные для вывода данных"
   ]
  },
  {
   "cell_type": "code",
   "execution_count": null,
   "id": "overhead-packaging",
   "metadata": {},
   "outputs": [],
   "source": []
  }
 ],
 "metadata": {
  "kernelspec": {
   "display_name": "Python 3",
   "language": "python",
   "name": "python3"
  },
  "language_info": {
   "codemirror_mode": {
    "name": "ipython",
    "version": 3
   },
   "file_extension": ".py",
   "mimetype": "text/x-python",
   "name": "python",
   "nbconvert_exporter": "python",
   "pygments_lexer": "ipython3",
   "version": "3.8.3"
  }
 },
 "nbformat": 4,
 "nbformat_minor": 5
}
