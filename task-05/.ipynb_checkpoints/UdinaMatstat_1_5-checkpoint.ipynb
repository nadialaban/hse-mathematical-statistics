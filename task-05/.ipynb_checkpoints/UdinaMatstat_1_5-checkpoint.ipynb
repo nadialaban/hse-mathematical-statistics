{
 "cells": [
  {
   "cell_type": "markdown",
   "metadata": {
    "colab_type": "text",
    "id": "view-in-github"
   },
   "source": [
    "<a href=\"https://colab.research.google.com/github/KateJud/matstat5/blob/main/UdinaMatstat_1_5.ipynb\" target=\"_parent\"><img src=\"https://colab.research.google.com/assets/colab-badge.svg\" alt=\"Open In Colab\"/></a>"
   ]
  },
  {
   "cell_type": "code",
   "execution_count": null,
   "metadata": {
    "id": "XocivSti7yGM"
   },
   "outputs": [],
   "source": [
    "import scipy\n",
    "from scipy import stats\n",
    "import itertools\n",
    "import numpy as np"
   ]
  },
  {
   "cell_type": "code",
   "execution_count": null,
   "metadata": {
    "id": "gTIfeVojhCy_"
   },
   "outputs": [],
   "source": []
  },
  {
   "cell_type": "markdown",
   "metadata": {
    "id": "hLfrU3VG5HHT"
   },
   "source": [
    "Ссылка на таблицу : [Таблица](https://docs.google.com/spreadsheets/d/1skrIoxZVRbCSV0ZYDtZQhxh2NZM5-aLulipVDoz3u8M/edit#gid=0)\n",
    "\n",
    "\n",
    "Ссылка на укроченный вариант:  [google.colab_short](https://colab.research.google.com/drive/11gPnGC6sKIMWX4dLQKLJ2Ma5eiKt_iQc#scrollTo=3esahJa2BHzT)"
   ]
  },
  {
   "cell_type": "markdown",
   "metadata": {
    "id": "cFDJTU_f8BEx"
   },
   "source": [
    "# ДЗ 1 задача 5\n",
    "\n",
    "## Юдина Екатерина БПИ198\n",
    "\n",
    "### Вариант 1"
   ]
  },
  {
   "cell_type": "markdown",
   "metadata": {
    "id": "IQZCPOpm8KMo"
   },
   "source": [
    "<br>\n",
    "<br>\n",
    "<br>\n",
    "\n",
    "$\\underline{Условие :}$\n",
    "\n",
    "В этом учебном году вам не довелось писать контрольную работу. Решив задачу №5, вы\n",
    "рассчитаете оценку, которая у вас могла бы быть.\n",
    "Файл «Данные к задаче 5.ods» содержит сведения о студентах, обучавшихся на втором курсе\n",
    "Программной Инженерии в 2015-2016 учебном году:\n",
    "x — итоговая оценка за курс «Теория вероятностей и математическая статистика»;\n",
    "d — пол студента (0 — юноша, 1 — девушка);\n",
    "y — оценка за контрольную работу по нашему курсу.\n",
    "К названиям переменных добавлен номер варианта (x8, d8, y8 — данные восьмого варианта и\n",
    "т. п.). Каждый вариант данных содержит наблюдения за 65 студентами.\n",
    "\n",
    "<br>\n",
    "<br>\n",
    "\n",
    "Оцениваемые модели.\n",
    "«Длинная» регрессия: $y_i=β_1+β_2x_i+β_3 d_i+ε_i$\n",
    ".\n",
    "\n",
    "«Короткая» регрессия: $y_i=γ_1+γ_2x_i+ν_i$\n",
    ".\n",
    "\n",
    "---\n",
    "\n",
    "1. Оцените длинную и короткую регрессии по наблюдениям 1-50 вашего варианта. Выпишите оценённые уравнения, дайте интерпретацию полученным коэффициентам.\n",
    "2. Рассчитайте значения $R^2$ для обеих моделей.\n",
    "3. По каждой модели рассчитайте прогноз оценки за контрольную работу для наблюдений 51–65 вашего варианта $\n",
    " \\hat{y}_{51} , ... ,\\hat{y}_{65}$ и среднюю абсолютную ошибку прогноза\n",
    "$ MAE= \\frac{1}{15}∑^{65}_{i=51} |y_i− \\hat{y}_{i} |$\n",
    "(MAE — Mean Absolute Error).\n",
    "4. Выберите модель с меньшей ошибкой и с её помощью спрогнозируйте собственную оценку за контрольную работу по курсу «Прикладные методы математической статистики».\n",
    "\n",
    "\n"
   ]
  },
  {
   "cell_type": "markdown",
   "metadata": {
    "id": "WpB8ZFiLAOgZ"
   },
   "source": [
    "$\\underline{Решение}$\n",
    "<br>\n",
    "<br>\n",
    "\n",
    "\n",
    "\n"
   ]
  },
  {
   "cell_type": "markdown",
   "metadata": {
    "id": "Cf3SBLcMZPwM"
   },
   "source": [
    " ►**1 Рассчитываем оценку функции регрессии**\n",
    "<br>\n",
    "<br>\n",
    " \n",
    "  Чтобы оценить регрессии воспользуемся методом наименьших квадратов. Те найдем такие коэффициенты, при которых сумма квадратов отклонений значений объясняемой величины $Y_i$ от значений линейной функции \"длинной\" и \"короткой\" регрессии минимальна.\n",
    "\n",
    "  ◆Для короткой:\n",
    "  $$\\sum^{n}_{i=1}(y_i-(γ_1+γ_2x_i))^2 \\longrightarrow min$$\n",
    "\n",
    "  ◆◆Для длинной:\n",
    "  $$\\sum^{n}_{i=1}(y_i-(β_1+β_2x_i+β_3 d_i))^2 \\longrightarrow min$$\n",
    "\n",
    "  Для этого берем производные и приранвиваем к нулю\n",
    "\n",
    "   ◆Для короткой:\n",
    "  $$\\frac{\\partial}{\\partial γ_1 }\\sum^{n}_{i=1}(y_i-γ_1-γ_2x_i)^2 =-2\\sum^{n}_{i=1}(y_i-γ_1-γ_2x_i)=0 $$\n",
    "\n",
    "   $$\\frac{\\partial}{\\partial γ_2 }\\sum^{n}_{i=1}(y_i-γ_1-γ_2x_i)^2 =-2\\sum^{n}_{i=1}x_i(y_i-γ_1-γ_2x_i)=0 $$\n",
    "\n",
    "   ◆◆Для длинной:\n",
    "   Найдем все коэффициенты через матрицу:\n",
    "   $$ \\hat β =\\begin{pmatrix}\n",
    "   \\hat\\beta_{1}\\\\\n",
    "  \\hat\\beta_{2}\\\\\n",
    "  \\hat \\beta_{3}\\\\\n",
    "\\end{pmatrix} =(X^{T}X)^{-1}X^{T}y$$, где $y =\\begin{pmatrix}\n",
    "   Y_{1}\\\\\n",
    "  Y_{2}\\\\\n",
    "  ..\\\\\n",
    "  Y_{65}\\\\\n",
    "\\end{pmatrix}$, $X =\\begin{pmatrix}\n",
    "  1& X_{1}  & D_{1} \\\\\n",
    "  1& X_{2}  & D_{2}\\\\\n",
    "  1& ..     & ..\\\\\n",
    "  1& X_{65} & D_{65}\\\\\n",
    "\\end{pmatrix}$\n",
    "\n",
    "\n",
    "\n",
    "  $$\\frac{\\partial}{\\partial β_1 }\\sum^{n}_{i=1}(y_i-β_1-β_2x_i-β_3 d_i)^2 =-2\\sum^{n}_{i=1}(y_i-β_1-β_2x_i-β_3 d_i)=0$$\n",
    "\n",
    "  $$\\frac{\\partial}{\\partial β_2 }\\sum^{n}_{i=1}(y_i-β_1-β_2x_i-β_3 d_i)^2 =-2\\sum^{n}_{i=1}x_i(y_i-β_1-β_2x_i-β_3 d_i)=0$$\n",
    "\n",
    "   $$\\frac{\\partial}{\\partial β_3 }\\sum^{n}_{i=1}(y_i-β_1-β_2x_i-β_3 d_i)^2 =-2\\sum^{n}_{i=1}d_i(y_i-β_1-β_2x_i-β_3 d_i)=0$$\n",
    "\n",
    "   Для каждого вида регрессии получаем систему.\n",
    "   Решаем ее и получаем:\n",
    "\n",
    "   ◆Для короткой:\n",
    "   $$\n",
    "   \\begin{equation*}\n",
    " \\begin{cases}\n",
    "   \\hat{γ}_1  = \\bar{y}-\\hat{ γ_2 }\\bar{x}=3.547 \n",
    "   \\\\\n",
    " \\hat{γ}_2 =\\frac{\\sum^{n}_{i=1}(x_i-\\bar{x})(y_i-\\bar{y})}{\\sum^{n}_{i=1}(x_i-\\bar{x})^2} =0.495\n",
    " \\end{cases}\n",
    "\\end{equation*}\n",
    "   $$\n",
    "\n",
    "  ◆◆Для длинной:\n",
    "   $$\n",
    "    \\hat β =\\begin{pmatrix}\n",
    "   \\hat\\beta_{1}\\\\\n",
    "  \\hat\\beta_{2}\\\\\n",
    "  \\hat \\beta_{3}\\\\\n",
    "\\end{pmatrix} =\\begin{pmatrix}\n",
    "  3.493\\\\\n",
    " 0.493\\\\\n",
    "  0.546\\\\\n",
    "\\end{pmatrix} \n",
    "   $$\n",
    "\n",
    "  Оцененные уровнения регрессии:\n",
    "\n",
    "  ◆Для короткой:\n",
    "   $$\\hat{Y}=3.547+0.495X$$\n",
    "\n",
    "  ◆◆Для длинной:\n",
    "  $$\\hat{Y}=3.493+0.493X+0.546D$$\n",
    "\n",
    "\n",
    "  ** Интерпретация коэффициентам**\n",
    "\n",
    "  Уравнение регрессии не только определяет форму анализируемой связи, но и показывает, в какой степени изменение одного признака сопровождается изменением другого признака.\n",
    "\n",
    "Коэффициент при $х$, называемый коэффициентом регрессии, показывает, на какую величину в среднем изменяется результативный признак $у$ при изменении факторного признака $х$ на единицу.\n",
    "\n"
   ]
  },
  {
   "cell_type": "code",
   "execution_count": null,
   "metadata": {
    "id": "fF9xwFR18wfB"
   },
   "outputs": [],
   "source": [
    "xlist=[4,8,5,2,9,2,7,4,6,8,4,5,2,7,5,2,3,7,2,6,6,3,7,5,7,3,4,7,6,6,6,4,5,7,9,1,5,4,9,4,1,2,2,6,3,1,9,3,9,5,4,3,8,1,6,7,6,8,4,6,4,4,7,5,8]\n",
    "dlist=[0,0,0,0,0,1,1,0,0,0,0,0,0,1,0,0,1,0,0,0,0,0,0,0,0,0,1,0,0,0,0,0,0,0,0,0,0,0,0,0,0,0,0,0,0,0,0,0,0,0,0,1,1,0,0,0,0,0,0,0,0,0,0,0,1]\n",
    "ylist=[4,7,9,4,8,6,5,6,4,8,4,7,7,9,8,7,1,2,8,5,8,5,10,3,6,6,8,10,5,5,6,6,1,9,7,3,6,3,8,4,5,1,7,9,3,2,10,9,10,6,4,7,8,7,9,8,9,8,2,3,7,2,5,5,9]\n",
    "xAverage=sum(xlist)/len(xlist)\n",
    "dAverage=sum(dlist)/len(dlist)\n",
    "yAverage=sum(ylist)/len(ylist)\n",
    "\n",
    "\n",
    "\n"
   ]
  },
  {
   "cell_type": "code",
   "execution_count": null,
   "metadata": {
    "colab": {
     "base_uri": "https://localhost:8080/",
     "height": 134
    },
    "id": "Wd0N0euO6W7k",
    "outputId": "07278a94-fc65-42c9-d8da-ec824219c249"
   },
   "outputs": [
    {
     "data": {
      "text/plain": [
       "matrix([[3.49320634],\n",
       "        [0.49261272],\n",
       "        [0.54557687]])"
      ]
     },
     "metadata": {
      "tags": []
     },
     "output_type": "display_data"
    },
    {
     "data": {
      "text/plain": [
       "3.493206342505865"
      ]
     },
     "metadata": {
      "tags": []
     },
     "output_type": "display_data"
    },
    {
     "name": "stdout",
     "output_type": "stream",
     "text": [
      "3.493\n",
      "0.493\n",
      "0.546\n"
     ]
    }
   ],
   "source": [
    "#Для длинной\n",
    "\n",
    "y_matr=[]\n",
    "x_matr=[]\n",
    "for (x,y,d) in itertools.zip_longest (xlist,ylist,dlist):\n",
    "  x_matr.append([1,x,d])\n",
    "  y_matr.append([y])\n",
    "\n",
    "x_matr=np.matrix(x_matr)\n",
    "y_matr=np.matrix(y_matr)\n",
    "#print(y_matr)\n",
    "#print(x_matr)\n",
    "x_matr_T=x_matr.transpose()\n",
    "beta_matr=(x_matr_T*x_matr)**(-1)*x_matr_T*y_matr\n",
    "display(beta_matr)\n",
    "beta1=beta_matr[0,0]\n",
    "beta2=beta_matr[1,0]\n",
    "beta3=beta_matr[2,0]\n",
    "display(beta1)\n",
    "\n",
    "print(\"{:.3f}\".format(beta1))\n",
    "print(\"{:.3f}\".format(beta2))\n",
    "print(\"{:.3f}\".format(beta3))"
   ]
  },
  {
   "cell_type": "code",
   "execution_count": null,
   "metadata": {
    "colab": {
     "base_uri": "https://localhost:8080/"
    },
    "id": "WjNKtXl4dOPf",
    "outputId": "f6d3a61f-3165-4803-b81c-e188643d5c9a"
   },
   "outputs": [
    {
     "name": "stdout",
     "output_type": "stream",
     "text": [
      "3.547\n",
      "0.495\n"
     ]
    }
   ],
   "source": [
    "#Для короткой\n",
    "sumUp=0\n",
    "sumDown=0\n",
    "for (x,y) in itertools.zip_longest (xlist,ylist):\n",
    "  sumUp+=(x-xAverage)*(y-yAverage)\n",
    "  sumDown+=(x-xAverage)**2\n",
    "\n",
    "gamma2=sumUp/sumDown\n",
    "\n",
    "gamma1=yAverage-gamma2*xAverage\n",
    "\n",
    "print(\"{:.3f}\".format(gamma1))\n",
    "print(\"{:.3f}\".format(gamma2))"
   ]
  },
  {
   "cell_type": "markdown",
   "metadata": {
    "id": "RAj5RGS9RQHy"
   },
   "source": [
    "---"
   ]
  },
  {
   "cell_type": "markdown",
   "metadata": {
    "id": "4Yr_zV18tR2u"
   },
   "source": [
    "►**2 Значения  $R^2$  для обеих моделей.**\n",
    "<br>\n",
    "<br>\n",
    "\n",
    "Коэффициент детерминации:\n",
    "$$R^2=\\frac{ESS}{TSS}=1-\\frac{RSS}{TSS}$$\n",
    "\n",
    "$ESS=\\frac{1}{n}\\sum^{n}_{i=1}(\\hat{y}_i-\\bar{Y})^2=$\n",
    "\n",
    "$TSS=\\frac{1}{n}\\sum^{n}_{i=1}(y_i-\\bar{Y})^2=$\n",
    "\n",
    "◆Для короткой:\n",
    "$$ R^2=0.204$$\n",
    "\n",
    "◆◆Для длинной:\n",
    "$$R^2=0.209$$\n",
    "\n",
    "ВЫВОД\n",
    "\n",
    "Можем видеть, что Коэффициент детерминации для короткой регрессии меньше, чем для длинной, что может говорить о менее точной оценке. (Видимо пол действительно влияет * _ *)"
   ]
  },
  {
   "cell_type": "markdown",
   "metadata": {
    "id": "fFcmwt5pUYYZ"
   },
   "source": [
    "![image.png](data:image/png;base64,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)"
   ]
  },
  {
   "cell_type": "code",
   "execution_count": null,
   "metadata": {
    "colab": {
     "base_uri": "https://localhost:8080/"
    },
    "id": "ZDDMGkMjyiBw",
    "outputId": "d70bceae-f419-43b8-fcce-b98ec319ab2c"
   },
   "outputs": [
    {
     "name": "stdout",
     "output_type": "stream",
     "text": [
      "0.204\n",
      "0.209\n"
     ]
    }
   ],
   "source": [
    "TSS =0 \n",
    "ESS_short=0\n",
    "ESS_long=0\n",
    "y_short_estimated=[]\n",
    "y_long_estimated=[]\n",
    "R2_short=0\n",
    "R2_long=0\n",
    "n=len(ylist)\n",
    "i=0\n",
    "\n",
    "for (x,y,d) in itertools.zip_longest (xlist,ylist,dlist):\n",
    "  TSS+=1/n*(y-yAverage)**2\n",
    "\n",
    "  y_short_estimated.append(gamma1+gamma2*x)\n",
    "  ESS_short+=1/n*(y_short_estimated[i]-yAverage)**2\n",
    "\n",
    "  y_long_estimated.append(beta1+beta2*x+beta3*d)\n",
    "  ESS_long+=1/n*(y_long_estimated[i]-yAverage)**2\n",
    "\n",
    "  i+=1\n",
    "\n",
    "\n",
    "R2_short=ESS_short/TSS\n",
    "R2_long=ESS_long/TSS\n",
    "\n",
    "print(\"{:.3f}\".format(R2_short))\n",
    "print(\"{:.3f}\".format(R2_long))"
   ]
  },
  {
   "cell_type": "markdown",
   "metadata": {
    "id": "c_OXMMTvUaLr"
   },
   "source": [
    "►**3 a)Прогноз оценки за контрольную работу.**\n",
    "<br>\n",
    "<br>\n",
    "\n",
    "Для прошлого пункта мы уже рассчитывали прогноз оценки за контрольную с помощью обеих видов регресси. Выпишем эти данные.\n",
    "\n",
    "$$\\hat{y}-short_{51} = 5.528 $$\n",
    "$$\\hat{y}-short_{52} = 5.033 $$\n",
    "$$\\hat{y}-short_{53} = 7.509 $$\n",
    "$$\\hat{y}-short_{54} = 4.042 $$\n",
    "$$\\hat{y}-short_{55} = 6.519 $$\n",
    "$$\\hat{y}-short_{56} = 7.014 $$\n",
    "$$\\hat{y}-short_{57} = 6.519 $$\n",
    "$$\\hat{y}-short_{58} = 7.509 $$\n",
    "$$\\hat{y}-short_{59} = 5.528 $$\n",
    "$$\\hat{y}-short_{60} = 6.519 $$\n",
    "$$\\hat{y}-short_{61} = 5.528 $$\n",
    "$$\\hat{y}-short_{62} = 5.528 $$\n",
    "$$\\hat{y}-short_{63} = 7.014 $$\n",
    "$$\\hat{y}-short_{64} = 6.023 $$\n",
    "$$\\hat{y}-short_{65} = 7.509 $$\n",
    "\n",
    "$$\\hat{y}-long_{51} = 5.464 $$\n",
    "$$\\hat{y}-long_{52} = 5.517 $$\n",
    "$$\\hat{y}-long_{53} = 7.980 $$\n",
    "$$\\hat{y}-long_{54} = 3.986 $$\n",
    "$$\\hat{y}-long_{55} = 6.449 $$\n",
    "$$\\hat{y}-long_{56} = 6.941 $$\n",
    "$$\\hat{y}-long_{57} = 6.449 $$\n",
    "$$\\hat{y}-long_{58} = 7.434 $$\n",
    "$$\\hat{y}-long_{59} = 5.464 $$\n",
    "$$\\hat{y}-long_{60} = 6.449 $$\n",
    "$$\\hat{y}-long_{61} = 5.464 $$\n",
    "$$\\hat{y}-long_{62} = 5.464 $$\n",
    "$$\\hat{y}-long_{63} = 6.941 $$\n",
    "$$\\hat{y}-long_{64} = 5.956 $$\n",
    "$$\\hat{y}-long_{65} = 7.980 $$\n",
    "\n",
    "\n",
    "\n",
    "\n",
    "►**3 б)Средняя абсолютная ошибка прогноза  MAE.**\n",
    "<br>\n",
    "<br>\n",
    "\n",
    "Высчитаем MAE по следующей формуле\n",
    "\n",
    "$$\n",
    "MAE= \\frac{1}{15}∑^{65}_{i=51} |y_i− \\hat{y}_{i}|\n",
    "$$\n",
    "\n",
    "◆Для короткой:\n",
    "$$ MAE=1.997$$\n",
    "\n",
    "◆◆Для длинной:\n",
    "$$ MAE =1.903$$\n",
    "\n",
    "ВЫВОД \n",
    "\n",
    "Длинная точнее\n"
   ]
  },
  {
   "cell_type": "code",
   "execution_count": null,
   "metadata": {
    "colab": {
     "base_uri": "https://localhost:8080/"
    },
    "id": "b3k5tADTsnIF",
    "outputId": "8a8ae80e-8eeb-4cd0-eea4-c8eda419459e"
   },
   "outputs": [
    {
     "name": "stdout",
     "output_type": "stream",
     "text": [
      "1.997\n",
      "1.903\n"
     ]
    }
   ],
   "source": [
    "#MAE\n",
    "MAE_short=0\n",
    "MAE_long=0\n",
    "for (i) in range(50,65):\n",
    "  MAE_short+=1/15*abs(ylist[i]-y_short_estimated[i])\n",
    "  MAE_long+=1/15*abs(ylist[i]-y_long_estimated[i])\n",
    "  \n",
    "\n",
    "\n",
    "print(\"{:.3f}\".format(MAE_short)) \n",
    "print(\"{:.3f}\".format(MAE_long)) "
   ]
  },
  {
   "cell_type": "code",
   "execution_count": null,
   "metadata": {
    "colab": {
     "base_uri": "https://localhost:8080/"
    },
    "id": "GttI5xlFqBHj",
    "outputId": "5fda37f3-a47e-4d7c-bb79-aadb255c77c7"
   },
   "outputs": [
    {
     "name": "stdout",
     "output_type": "stream",
     "text": [
      "$$\\hat{y}-short_{51} = 5.528 $$\n",
      "$$\\hat{y}-short_{52} = 5.033 $$\n",
      "$$\\hat{y}-short_{53} = 7.509 $$\n",
      "$$\\hat{y}-short_{54} = 4.042 $$\n",
      "$$\\hat{y}-short_{55} = 6.519 $$\n",
      "$$\\hat{y}-short_{56} = 7.014 $$\n",
      "$$\\hat{y}-short_{57} = 6.519 $$\n",
      "$$\\hat{y}-short_{58} = 7.509 $$\n",
      "$$\\hat{y}-short_{59} = 5.528 $$\n",
      "$$\\hat{y}-short_{60} = 6.519 $$\n",
      "$$\\hat{y}-short_{61} = 5.528 $$\n",
      "$$\\hat{y}-short_{62} = 5.528 $$\n",
      "$$\\hat{y}-short_{63} = 7.014 $$\n",
      "$$\\hat{y}-short_{64} = 6.023 $$\n",
      "$$\\hat{y}-short_{65} = 7.509 $$\n",
      "$$\\hat{y}-long_{51} = 5.464 $$\n",
      "$$\\hat{y}-long_{52} = 5.517 $$\n",
      "$$\\hat{y}-long_{53} = 7.980 $$\n",
      "$$\\hat{y}-long_{54} = 3.986 $$\n",
      "$$\\hat{y}-long_{55} = 6.449 $$\n",
      "$$\\hat{y}-long_{56} = 6.941 $$\n",
      "$$\\hat{y}-long_{57} = 6.449 $$\n",
      "$$\\hat{y}-long_{58} = 7.434 $$\n",
      "$$\\hat{y}-long_{59} = 5.464 $$\n",
      "$$\\hat{y}-long_{60} = 6.449 $$\n",
      "$$\\hat{y}-long_{61} = 5.464 $$\n",
      "$$\\hat{y}-long_{62} = 5.464 $$\n",
      "$$\\hat{y}-long_{63} = 6.941 $$\n",
      "$$\\hat{y}-long_{64} = 5.956 $$\n",
      "$$\\hat{y}-long_{65} = 7.980 $$\n"
     ]
    }
   ],
   "source": [
    "#print.format y_51-65\n",
    "for (i) in range(50,65):\n",
    "  print(\"$$\\hat{{y}}-short_{{{}}} = {:.3f} $$\".format(i+1,y_short_estimated[i]))\n",
    "\n",
    "for (i) in range(50,65):\n",
    "  print(\"$$\\hat{{y}}-long_{{{}}} = {:.3f} $$\".format(i+1,y_long_estimated[i]))\n",
    "  "
   ]
  },
  {
   "cell_type": "markdown",
   "metadata": {
    "id": "J16ibAPiBiTo"
   },
   "source": [
    "---"
   ]
  },
  {
   "cell_type": "markdown",
   "metadata": {
    "id": "A35hKg4NyPwG"
   },
   "source": [
    "**4 Прогноз собственной оценки за контрольную.**\n",
    "\n",
    "$y_{my}=\\beta_1+\\beta_2*10+\\beta_3*1=8.97$\n",
    "\n",
    "Интересненько))\n"
   ]
  },
  {
   "cell_type": "code",
   "execution_count": null,
   "metadata": {
    "colab": {
     "base_uri": "https://localhost:8080/"
    },
    "id": "-EPp4x2-y12D",
    "outputId": "60e79f6c-9b37-43c8-e7a1-98bfcea3f348"
   },
   "outputs": [
    {
     "data": {
      "text/plain": [
       "8.964910429253617"
      ]
     },
     "execution_count": 26,
     "metadata": {
      "tags": []
     },
     "output_type": "execute_result"
    }
   ],
   "source": [
    "y_my=beta1+beta2*10+beta3*1\n",
    "y_my"
   ]
  },
  {
   "cell_type": "code",
   "execution_count": null,
   "metadata": {
    "colab": {
     "base_uri": "https://localhost:8080/"
    },
    "id": "fCuCff1JmVT-",
    "outputId": "45363ea0-d5b7-42db-fc8e-08be50cb4122"
   },
   "outputs": [
    {
     "name": "stdout",
     "output_type": "stream",
     "text": [
      "5.902\n",
      "0.013\n",
      "0.628\n"
     ]
    }
   ],
   "source": [
    "#Для длинной\n",
    "sumUp=0\n",
    "sumDown2=0\n",
    "sumDown3=0\n",
    "for (x,y,d) in itertools.zip_longest (xlist,ylist,dlist):\n",
    "  sumUp+=(x-xAverage)*(y-yAverage)*(d-dAverage)\n",
    "  sumDown2+=(x-xAverage)**2\n",
    "  sumDown3+=(d-dAverage)**2\n",
    "\n",
    "beta2=sumUp/sumDown2\n",
    "beta3=sumUp/sumDown3\n",
    "\n",
    "\n",
    "beta1=yAverage-beta2*xAverage-beta3*dAverage\n",
    "\n"
   ]
  }
 ],
 "metadata": {
  "colab": {
   "authorship_tag": "ABX9TyOMd+0BqltIt675ZSYnOulv",
   "include_colab_link": true,
   "name": "UdinaMatstat_1_5.ipynb",
   "provenance": []
  },
  "kernelspec": {
   "display_name": "Python 3",
   "language": "python",
   "name": "python3"
  },
  "language_info": {
   "codemirror_mode": {
    "name": "ipython",
    "version": 3
   },
   "file_extension": ".py",
   "mimetype": "text/x-python",
   "name": "python",
   "nbconvert_exporter": "python",
   "pygments_lexer": "ipython3",
   "version": "3.8.3"
  }
 },
 "nbformat": 4,
 "nbformat_minor": 1
}
